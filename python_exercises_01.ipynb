{
  "nbformat": 4,
  "nbformat_minor": 0,
  "metadata": {
    "colab": {
      "name": "python_exercises_01.ipynb",
      "provenance": [],
      "collapsed_sections": [],
      "include_colab_link": true
    },
    "kernelspec": {
      "name": "python3",
      "display_name": "Python 3"
    }
  },
  "cells": [
    {
      "cell_type": "markdown",
      "metadata": {
        "id": "view-in-github",
        "colab_type": "text"
      },
      "source": [
        "<a href=\"https://colab.research.google.com/github/matcarvalho/br-python-condensed/blob/main/python_exercises_01.ipynb\" target=\"_parent\"><img src=\"https://colab.research.google.com/assets/colab-badge.svg\" alt=\"Open In Colab\"/></a>"
      ]
    },
    {
      "cell_type": "markdown",
      "metadata": {
        "id": "8YqaSZgXYJ5g"
      },
      "source": [
        "![](https://i.imgur.com/YX6UATs.png)\n"
      ]
    },
    {
      "cell_type": "markdown",
      "metadata": {
        "id": "hhUVzDipaGb9"
      },
      "source": [
        "### **Exercícios de Python - 1** \n",
        "\n",
        "\n",
        "\n"
      ]
    },
    {
      "cell_type": "markdown",
      "metadata": {
        "id": "qMGp-h8OaGqr"
      },
      "source": [
        "1 - Faça um programa, com uma função que necessite de três argumentos, e que forneça a soma desses três argumentos."
      ]
    },
    {
      "cell_type": "code",
      "metadata": {
        "id": "kTg-D89NdCld",
        "colab": {
          "base_uri": "https://localhost:8080/"
        },
        "outputId": "0a5c4e22-c879-4f87-995d-8f1b1d1bae20"
      },
      "source": [
        "#Função Soma\n",
        "def soma(valor1, valor2, valor3):\n",
        "  total = valor1+valor2+valor3\n",
        "  return total\n",
        "\n",
        "##input dos dados\n",
        "valor1 = int(input(\"Informe o primeiro valor: \"))\n",
        "valor2 = int(input(\"Informe o segundo valor: \"))\n",
        "valor3 = int(input(\"Informe o terceiro valor: \"))\n",
        "\n",
        "#Resultado\n",
        "soma(valor1,valor2,valor3)"
      ],
      "execution_count": null,
      "outputs": [
        {
          "output_type": "stream",
          "text": [
            "Informe o primeiro valor: 2\n",
            "Informe o segundo valor: 2\n",
            "Informe o terceiro valor: 2\n"
          ],
          "name": "stdout"
        },
        {
          "output_type": "execute_result",
          "data": {
            "text/plain": [
              "6"
            ]
          },
          "metadata": {
            "tags": []
          },
          "execution_count": 6
        }
      ]
    },
    {
      "cell_type": "markdown",
      "metadata": {
        "id": "KdLXZftIaG60"
      },
      "source": [
        "2 - Faça um Programa que peça a temperatura em graus Celsius, transforme e mostre em graus Fahrenheit. \\\n",
        "*Dica: procure a fórmula para essa conversão na internet*"
      ]
    },
    {
      "cell_type": "markdown",
      "metadata": {
        "id": "EsdLj36y73__"
      },
      "source": [
        "Fórmula: (x °C × 9/5) + 32 = x °F\n"
      ]
    },
    {
      "cell_type": "code",
      "metadata": {
        "id": "MNINJ32eU45M",
        "colab": {
          "base_uri": "https://localhost:8080/"
        },
        "outputId": "4e8bcc99-f2d3-46e0-ba30-25ee49254464"
      },
      "source": [
        "celsius = float(input(\"Olá, informe a temperatura em Grau Celsius: \"))\n",
        "\n",
        "conversao = (celsius*9/5)+32\n",
        "\n",
        "print(f\"A temperatura em Fahrenheit é: {conversao}°F\")"
      ],
      "execution_count": null,
      "outputs": [
        {
          "output_type": "stream",
          "text": [
            "Olá, informe a temperatura em Grau Celsius: 25\n",
            "A temperatura em Fahrenheit é: 77.0°F\n"
          ],
          "name": "stdout"
        }
      ]
    },
    {
      "cell_type": "markdown",
      "metadata": {
        "id": "4OETBVgmaGzX"
      },
      "source": [
        "3 - Faça um Programa que peça um número inteiro e determine se ele é par ou impar. Dica: utilize o operador módulo (resto da divisão)."
      ]
    },
    {
      "cell_type": "code",
      "metadata": {
        "id": "WbzCimFZVSr1",
        "colab": {
          "base_uri": "https://localhost:8080/"
        },
        "outputId": "45756e48-6e66-4096-cccb-d6474b3aa8ad"
      },
      "source": [
        "n1 = int(input(\"Informe um número: \"))\n",
        "\n",
        "if n1%2==0:\n",
        "  print(\"Esse número é par\")\n",
        "else:\n",
        "  print(\"Esse número é impar\")"
      ],
      "execution_count": null,
      "outputs": [
        {
          "output_type": "stream",
          "text": [
            "Informe um número: 3\n",
            "Esse número é impar\n"
          ],
          "name": "stdout"
        }
      ]
    },
    {
      "cell_type": "markdown",
      "metadata": {
        "id": "7zPJ8sgPaGw0"
      },
      "source": [
        "4 - Faça um programa que peça o tamanho de um arquivo para download (em MB) e a velocidade de um link de Internet (em Mbps), calcule e informe o tempo aproximado de download do arquivo usando este link (em minutos)."
      ]
    },
    {
      "cell_type": "code",
      "metadata": {
        "id": "l4qtSxU7XquB",
        "colab": {
          "base_uri": "https://localhost:8080/"
        },
        "outputId": "bfee9b33-d296-4d35-da93-4bf1268479b7"
      },
      "source": [
        "tarquivo = float(input(\"Olá, informe o tamanho do arquivo em MB: \"))\n",
        "vnet = float(input(\"agora informe a velocidade da sua internet em Mbps: \"))\n",
        "\n",
        "##Converte a velocidade da internet em velocidade de download\n",
        "vdownload = vnet/8\n",
        "\n",
        "#Calcula o tempo em minutos\n",
        "minutos = (tarquivo/vdownload)/60\n",
        "\n",
        "#Calcula o tempo em segundos\n",
        "segundos = (minutos - int(minutos))*60\n",
        "\n",
        "print(f\"O tempo estimado em minutos é: {int(minutos)} minutos e {int(segundos)} segundos\")\n"
      ],
      "execution_count": 65,
      "outputs": [
        {
          "output_type": "stream",
          "text": [
            "Olá, informe o tamanho do arquivo em MB: 545\n",
            "agora informe a velocidade da sua internet em Mbps: 10\n",
            "O tempo estimado em minutos é: 7 minutos e 15 segundos\n"
          ],
          "name": "stdout"
        }
      ]
    },
    {
      "cell_type": "markdown",
      "metadata": {
        "id": "0tkhm6EUaG1u"
      },
      "source": [
        "5 - Faça um programa para a leitura de duas notas parciais de um aluno. O programa deve calcular a média alcançada por aluno e apresentar:\n",
        "- A mensagem \"Aprovado\", se a média alcançada for maior ou igual a sete;\n",
        "- A mensagem \"Reprovado\", se a média for menor do que sete;\n",
        "- A mensagem \"Aprovado com Distinção\", se a média for igual a dez."
      ]
    },
    {
      "cell_type": "code",
      "metadata": {
        "id": "990mQ6UhdwKl",
        "colab": {
          "base_uri": "https://localhost:8080/"
        },
        "outputId": "7a21f12e-dc1b-4121-b0b8-7a37a82e147c"
      },
      "source": [
        "#Função média\n",
        "def media(nota1, nota2):\n",
        "  notafinal = (nota1+nota2)/2\n",
        "  return notafinal\n",
        "\n",
        "#Função \n",
        "def statusAluno(nota):\n",
        "  if nota < 7:\n",
        "     print(\"Reprovado\")\n",
        "  elif nota >= 7 and nota < 10:\n",
        "    print(\"Aprovado\")\n",
        "  else:\n",
        "    print(\"Aprovado com distinção\")\n",
        "\n",
        "\n",
        "nota1 = int(input(\"Informe a primeira nota: \"))\n",
        "nota2 = int(input(\"Informe a segunda nota: \"))\n",
        "\n",
        "if nota1 > 10 or nota2 > 10:\n",
        "  print(\"********************\")\n",
        "  print(\"Você digitou alguma nota errada, por favor, vamos começar novamente?\")\n",
        "  print(\"********************\")\n",
        "  nota1 = int(input(\"Informe a primeira nota: \"))\n",
        "  nota2 = int(input(\"Informe a segunda nota: \"))\n",
        "  statusAluno(media(nota1,nota2))\n",
        "else:\n",
        "  statusAluno(media(nota1,nota2))\n"
      ],
      "execution_count": null,
      "outputs": [
        {
          "output_type": "stream",
          "text": [
            "Informe a primeira nota: 9\n",
            "Informe a segunda nota: 10\n",
            "Aprovador\n"
          ],
          "name": "stdout"
        }
      ]
    },
    {
      "cell_type": "markdown",
      "metadata": {
        "id": "p5f2UbIn3clT"
      },
      "source": [
        "**Exercício 2:** Adicione na função **calcula_imc** a variável (nome) que pede ao usuário a inclusão de seu nome para, posteriormente, constar no **return** da função.\n"
      ]
    },
    {
      "cell_type": "code",
      "metadata": {
        "id": "WobKzc4K3dVg",
        "colab": {
          "base_uri": "https://localhost:8080/"
        },
        "outputId": "d69230ea-7b31-46af-8381-763ebd51ca9d"
      },
      "source": [
        "def calculaIMC(peso, altura, nome):\n",
        "  return print(f\"Olá {nome}, seu IMC é: {round(peso / altura**2,2)}\")\n",
        "\n",
        "print(\"***************************************\")\n",
        "print(\"Calculadora IMC\")\n",
        "print(\"***************************************\")\n",
        "nome = input(\"Olá, qual seu nome? \")\n",
        "altura = float(input(\"Informe sua altura em metros. Ex.: 1.77 \"))\n",
        "peso = float(input(\"Informe o seu peso em Kg. Ex.: 95.5 \"))\n",
        "\n",
        "calculaIMC(peso, altura, nome)\n",
        "\n",
        "\n"
      ],
      "execution_count": 68,
      "outputs": [
        {
          "output_type": "stream",
          "text": [
            "***************************************\n",
            "Calculadora IMC\n",
            "***************************************\n",
            "Olá, qual seu nome? Mateus\n",
            "Informe sua altura em metros. Ex.: 1.77 1.90\n",
            "Informe o seu peso em Kg. Ex.: 95.5 90\n",
            "Olá Mateus, seu IMC é: 24.93\n"
          ],
          "name": "stdout"
        }
      ]
    },
    {
      "cell_type": "markdown",
      "metadata": {
        "id": "Lm1tOKThnU42"
      },
      "source": [
        "Exercícios adaptados de Python Brasil"
      ]
    }
  ]
}