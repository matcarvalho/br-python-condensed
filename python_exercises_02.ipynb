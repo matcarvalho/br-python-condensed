{
  "nbformat": 4,
  "nbformat_minor": 0,
  "metadata": {
    "colab": {
      "name": "Copy of python_exercises_02.ipynb",
      "provenance": [],
      "include_colab_link": true
    },
    "kernelspec": {
      "name": "python3",
      "display_name": "Python 3"
    }
  },
  "cells": [
    {
      "cell_type": "markdown",
      "metadata": {
        "id": "view-in-github",
        "colab_type": "text"
      },
      "source": [
        "<a href=\"https://colab.research.google.com/github/matcarvalho/br-python-condensed/blob/main/python_exercises_02.ipynb\" target=\"_parent\"><img src=\"https://colab.research.google.com/assets/colab-badge.svg\" alt=\"Open In Colab\"/></a>"
      ]
    },
    {
      "cell_type": "markdown",
      "metadata": {
        "id": "8YqaSZgXYJ5g"
      },
      "source": [
        "![](https://i.imgur.com/YX6UATs.png)\n"
      ]
    },
    {
      "cell_type": "markdown",
      "metadata": {
        "id": "hhUVzDipaGb9"
      },
      "source": [
        "### **Exercícios de Python - 2** \n",
        "\n",
        "\n",
        "\n"
      ]
    },
    {
      "cell_type": "markdown",
      "metadata": {
        "id": "c62cM2VlKFqN"
      },
      "source": [
        "1 - Faça um programa que leia um nome de usuário e a sua senha e não aceite a senha igual ao nome do usuário, mostrando uma mensagem de erro."
      ]
    },
    {
      "cell_type": "code",
      "metadata": {
        "id": "A3ajzaOSq69B",
        "colab": {
          "base_uri": "https://localhost:8080/"
        },
        "outputId": "47776d14-e495-485e-f0be-bf9de46c828f"
      },
      "source": [
        "# Controle de acesso\n",
        "import getpass\n",
        "\n",
        "print(\"Bem-vindo, por favor informe seu usuário e senha abaixo: \")\n",
        "usuario = input(\"Informe o seu usuário: \") \n",
        "senha = getpass.getpass(\"Informe sua senha: \")\n",
        "\n",
        "while usuario == senha:\n",
        "  print(\"*\"*80)\n",
        "  print(\"Você não pode digitar usuário e senha iguais, informe outra senha.\")\n",
        "  usuario = input(\"Informe o seu usuário: \")\n",
        "  senha = getpass.getpass(\"Informe sua senha: \")\n",
        "  print(\"*\"*80)\n",
        "\n",
        "print(\"Bem vindo ao sistema!\")"
      ],
      "execution_count": null,
      "outputs": [
        {
          "output_type": "stream",
          "text": [
            "Bem-vindo, por favor informe seu usuário e senha abaixo: \n",
            "Informe o seu usuário: mateus\n",
            "Informe sua senha: ··········\n",
            "********************************************************************************\n",
            "Você não pode digitar usuário e senha iguais, informe outra senha.\n",
            "Informe o seu usuário: mateus\n",
            "Informe sua senha: ··········\n",
            "********************************************************************************\n",
            "Bem vindo ao sistema!\n"
          ],
          "name": "stdout"
        }
      ]
    },
    {
      "cell_type": "markdown",
      "metadata": {
        "id": "qMGp-h8OaGqr"
      },
      "source": [
        "2 - Utilizando listas faça um programa que faça 5 perguntas para uma pessoa sobre um crime. As perguntas são:\n",
        "- \"Telefonou para a vítima?\"\n",
        "- \"Esteve no local do crime?\"\n",
        "- \"Mora perto da vítima?\"\n",
        "- \"Devia para a vítima?\"\n",
        "- \"Já trabalhou com a vítima?\" \\\n",
        "O programa deve no final emitir uma classificação sobre a participação da pessoa no crime. Se a pessoa responder positivamente a 2 questões ela deve ser classificada como \"Suspeita\", entre 3 e 4 como \"Cúmplice\" e 5 como \"Assassino\". Caso contrário, ele será classificado como \"Inocente\"."
      ]
    },
    {
      "cell_type": "code",
      "metadata": {
        "id": "kTg-D89NdCld"
      },
      "source": [
        ""
      ],
      "execution_count": null,
      "outputs": []
    },
    {
      "cell_type": "markdown",
      "metadata": {
        "id": "FTK9nE4pdB1D"
      },
      "source": [
        "3 - A lista abaixo possui nomes de alunos de uma classe. Crie um loop que imprima '{nome} é aluno da classe'\n"
      ]
    },
    {
      "cell_type": "code",
      "metadata": {
        "id": "nW4SbDxTmx4t"
      },
      "source": [
        "['Maria','João','Marcelo','Jonas','Laura','Luana']"
      ],
      "execution_count": null,
      "outputs": []
    },
    {
      "cell_type": "code",
      "metadata": {
        "id": "0sRr8MXCpbGP"
      },
      "source": [
        ""
      ],
      "execution_count": null,
      "outputs": []
    },
    {
      "cell_type": "markdown",
      "metadata": {
        "id": "_HbJNv8MaG4g"
      },
      "source": [
        "4 - Utilizando-se da mesma lista trabalhada acima e a lista dada abaixo, que contem as idades dos alunos, realize um loop que faça a iteração com as duas listas printando \"{nome} tem {idade} anos\".\n",
        "Dica: utilize *zip*()"
      ]
    },
    {
      "cell_type": "code",
      "metadata": {
        "id": "LJDxmAbJeO9V"
      },
      "source": [
        "[23,34,42,54,26,27]"
      ],
      "execution_count": null,
      "outputs": []
    },
    {
      "cell_type": "code",
      "metadata": {
        "id": "Kq1Lc7Ukps-V"
      },
      "source": [
        ""
      ],
      "execution_count": null,
      "outputs": []
    },
    {
      "cell_type": "markdown",
      "metadata": {
        "id": "0tkhm6EUaG1u"
      },
      "source": [
        "5 - Transforme as duas listas anteriores em um dicionário cuja chave é o nome e o valor é a idade."
      ]
    },
    {
      "cell_type": "code",
      "metadata": {
        "id": "MNINJ32eU45M"
      },
      "source": [
        ""
      ],
      "execution_count": null,
      "outputs": []
    },
    {
      "cell_type": "markdown",
      "metadata": {
        "id": "Lm1tOKThnU42"
      },
      "source": [
        "Exercícios adaptados de Python Brasil"
      ]
    }
  ]
}