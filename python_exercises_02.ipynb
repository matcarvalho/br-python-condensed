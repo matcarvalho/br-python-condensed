{
  "nbformat": 4,
  "nbformat_minor": 0,
  "metadata": {
    "colab": {
      "name": "python_exercises_02.ipynb",
      "provenance": [],
      "collapsed_sections": [],
      "include_colab_link": true
    },
    "kernelspec": {
      "name": "python3",
      "display_name": "Python 3"
    }
  },
  "cells": [
    {
      "cell_type": "markdown",
      "metadata": {
        "id": "view-in-github",
        "colab_type": "text"
      },
      "source": [
        "<a href=\"https://colab.research.google.com/github/matcarvalho/br-python-condensed/blob/main/python_exercises_02.ipynb\" target=\"_parent\"><img src=\"https://colab.research.google.com/assets/colab-badge.svg\" alt=\"Open In Colab\"/></a>"
      ]
    },
    {
      "cell_type": "markdown",
      "metadata": {
        "id": "8YqaSZgXYJ5g"
      },
      "source": [
        "![](https://i.imgur.com/YX6UATs.png)\n"
      ]
    },
    {
      "cell_type": "markdown",
      "metadata": {
        "id": "hhUVzDipaGb9"
      },
      "source": [
        "### **Exercícios de Python - 2** \n",
        "\n",
        "\n",
        "\n"
      ]
    },
    {
      "cell_type": "markdown",
      "metadata": {
        "id": "c62cM2VlKFqN"
      },
      "source": [
        "1 - Faça um programa que leia um nome de usuário e a sua senha e não aceite a senha igual ao nome do usuário, mostrando uma mensagem de erro."
      ]
    },
    {
      "cell_type": "code",
      "metadata": {
        "id": "A3ajzaOSq69B",
        "colab": {
          "base_uri": "https://localhost:8080/"
        },
        "outputId": "47776d14-e495-485e-f0be-bf9de46c828f"
      },
      "source": [
        "# Controle de acesso\n",
        "import getpass\n",
        "\n",
        "print(\"Bem-vindo, por favor informe seu usuário e senha abaixo: \")\n",
        "usuario = input(\"Informe o seu usuário: \") # Recebe o usuário\n",
        "senha = getpass.getpass(\"Informe sua senha: \") # Recebe a senha\n",
        "\n",
        "#Verifica se usuário e senha são diferentes\n",
        "while usuario == senha:\n",
        "  print(\"*\"*80)\n",
        "  print(\"Você não pode digitar usuário e senha iguais, informe outra senha.\")\n",
        "  usuario = input(\"Informe o seu usuário: \")\n",
        "  senha = getpass.getpass(\"Informe sua senha: \")\n",
        "  print(\"*\"*80)\n",
        "\n",
        "print(\"Bem vindo ao sistema!\")"
      ],
      "execution_count": null,
      "outputs": [
        {
          "output_type": "stream",
          "text": [
            "Bem-vindo, por favor informe seu usuário e senha abaixo: \n",
            "Informe o seu usuário: mateus\n",
            "Informe sua senha: ··········\n",
            "********************************************************************************\n",
            "Você não pode digitar usuário e senha iguais, informe outra senha.\n",
            "Informe o seu usuário: mateus\n",
            "Informe sua senha: ··········\n",
            "********************************************************************************\n",
            "Bem vindo ao sistema!\n"
          ],
          "name": "stdout"
        }
      ]
    },
    {
      "cell_type": "markdown",
      "metadata": {
        "id": "qMGp-h8OaGqr"
      },
      "source": [
        "2 - Utilizando listas faça um programa que faça 5 perguntas para uma pessoa sobre um crime. As perguntas são:\n",
        "- \"Telefonou para a vítima?\"\n",
        "- \"Esteve no local do crime?\"\n",
        "- \"Mora perto da vítima?\"\n",
        "- \"Devia para a vítima?\"\n",
        "- \"Já trabalhou com a vítima?\" \\\n",
        "O programa deve no final emitir uma classificação sobre a participação da pessoa no crime. Se a pessoa responder positivamente a 2 questões ela deve ser classificada como \"Suspeita\", entre 3 e 4 como \"Cúmplice\" e 5 como \"Assassino\". Caso contrário, ele será classificado como \"Inocente\"."
      ]
    },
    {
      "cell_type": "code",
      "metadata": {
        "id": "kTg-D89NdCld",
        "colab": {
          "base_uri": "https://localhost:8080/"
        },
        "outputId": "e46476ec-c342-4e14-885f-b0e7f270e09d"
      },
      "source": [
        "lista_respostas = []\n",
        "\n",
        "#Preenchendo a lista\n",
        "lista_respostas.append(input(\"Você telefonou para a vítima? Sim ou Não \"))\n",
        "lista_respostas.append(input(\"Você esteve no local do crime? Sim ou Não \"))\n",
        "lista_respostas.append(input(\"Você mora perto da vítima? Sim ou Não \"))\n",
        "lista_respostas.append(input(\"Você devia para a vítima? Sim ou Não \"))\n",
        "lista_respostas.append(input(\"Você já trabalhou com a vítima? Sim ou Não \"))\n",
        "\n",
        "\n",
        "#Verificando quantas vezes a pessoa respondeu Sim\n",
        "contador = 0\n",
        "for i in lista_respostas:\n",
        "  if i == \"sim\" or i == \"Sim\" or i == \"SIM\":\n",
        "    contador = contador + 1 \n",
        "\n",
        "#Indicando qual é a classificação da pessoa: Inocente, Suspeita, cúmplice ou assisina\n",
        "if contador == 2:\n",
        " print(\"A pessoa é suspeita\")\n",
        "elif contador == 3 or contador == 4:\n",
        "  print(\"A pessoa é cúmplice\")\n",
        "elif contador == 5:\n",
        "  print(\"A pessoa é assasina\")\n",
        "else:\n",
        "  print(\"A pessoa é inocente\")"
      ],
      "execution_count": 16,
      "outputs": [
        {
          "output_type": "stream",
          "text": [
            "Você telefonou para a vítima? Sim ou Não sim\n",
            "Você esteve no local do crime? Sim ou Não sim\n",
            "Você mora perto da vítima? Sim ou Não sim\n",
            "Você devia para a vítima? Sim ou Não Não\n",
            "Você já trabalhou com a vítima? Sim ou Não Não\n",
            "A pessoa é cúmplice\n"
          ],
          "name": "stdout"
        }
      ]
    },
    {
      "cell_type": "markdown",
      "metadata": {
        "id": "FTK9nE4pdB1D"
      },
      "source": [
        "**3** - A lista abaixo possui nomes de alunos de uma classe. Crie um loop que imprima '{nome} é aluno da classe'\n"
      ]
    },
    {
      "cell_type": "code",
      "metadata": {
        "id": "nW4SbDxTmx4t"
      },
      "source": [
        "['Maria','João','Marcelo','Jonas','Laura','Luana']"
      ],
      "execution_count": null,
      "outputs": []
    },
    {
      "cell_type": "code",
      "metadata": {
        "id": "0sRr8MXCpbGP",
        "colab": {
          "base_uri": "https://localhost:8080/"
        },
        "outputId": "3baa25da-ee1b-4e19-cb0c-a517a1a0735d"
      },
      "source": [
        "alunos = ['Maria','João','Marcelo','Jonas','Laura','Luana']\n",
        "\n",
        "for a in alunos:\n",
        "  print(f\"{a} é um aluno(a) da classe\")"
      ],
      "execution_count": 6,
      "outputs": [
        {
          "output_type": "stream",
          "text": [
            "Maria é um aluno da classe\n",
            "João é um aluno da classe\n",
            "Marcelo é um aluno da classe\n",
            "Jonas é um aluno da classe\n",
            "Laura é um aluno da classe\n",
            "Luana é um aluno da classe\n"
          ],
          "name": "stdout"
        }
      ]
    },
    {
      "cell_type": "markdown",
      "metadata": {
        "id": "_HbJNv8MaG4g"
      },
      "source": [
        "4 - Utilizando-se da mesma lista trabalhada acima e a lista dada abaixo, que contem as idades dos alunos, realize um loop que faça a iteração com as duas listas printando \"{nome} tem {idade} anos\".\n",
        "Dica: utilize *zip*()"
      ]
    },
    {
      "cell_type": "code",
      "metadata": {
        "id": "LJDxmAbJeO9V"
      },
      "source": [
        "[23,34,42,54,26,27]"
      ],
      "execution_count": null,
      "outputs": []
    },
    {
      "cell_type": "code",
      "metadata": {
        "id": "Kq1Lc7Ukps-V",
        "colab": {
          "base_uri": "https://localhost:8080/"
        },
        "outputId": "c9bc984f-074f-4f3d-a612-c318edac10ea"
      },
      "source": [
        "alunos = ['Maria','João','Marcelo','Jonas','Laura','Luana']\n",
        "idades = [23,34,42,54,26,27]\n",
        "\n",
        "# A Função zip permite eu percorrer duas ou mais listas ao mesmo tempo\n",
        "for a,i in zip(alunos, idades):\n",
        "  print(f\"{a} tem {i} anos\")"
      ],
      "execution_count": 7,
      "outputs": [
        {
          "output_type": "stream",
          "text": [
            "Maria tem 23 anos\n",
            "João tem 34 anos\n",
            "Marcelo tem 42 anos\n",
            "Jonas tem 54 anos\n",
            "Laura tem 26 anos\n",
            "Luana tem 27 anos\n"
          ],
          "name": "stdout"
        }
      ]
    },
    {
      "cell_type": "markdown",
      "metadata": {
        "id": "0tkhm6EUaG1u"
      },
      "source": [
        "5 - Transforme as duas listas anteriores em um dicionário cuja chave é o nome e o valor é a idade."
      ]
    },
    {
      "cell_type": "code",
      "metadata": {
        "id": "MNINJ32eU45M",
        "colab": {
          "base_uri": "https://localhost:8080/"
        },
        "outputId": "f305da0a-092f-4dcc-aaaa-8a600b33e2ad"
      },
      "source": [
        "alunos_classe = {} # Criação do dicionários\n",
        "alunos = ['Maria','João','Marcelo','Jonas','Laura','Luana'] #Criação da lista de nomes\n",
        "idades = [23,34,42,54,26,27] # Criação da lista de idades\n",
        "\n",
        "#Transformando as listas em dicionário\n",
        "for a,i in zip(alunos, idades):\n",
        "  alunos_classe[a] = {} # Recebe o nome\n",
        "  alunos_classe[a]['idade'] = i # Recebe a idade\n",
        "\n",
        "alunos_classe"
      ],
      "execution_count": 30,
      "outputs": [
        {
          "output_type": "execute_result",
          "data": {
            "text/plain": [
              "{'Jonas': {'idade': 54},\n",
              " 'João': {'idade': 34},\n",
              " 'Laura': {'idade': 26},\n",
              " 'Luana': {'idade': 27},\n",
              " 'Marcelo': {'idade': 42},\n",
              " 'Maria': {'idade': 23}}"
            ]
          },
          "metadata": {
            "tags": []
          },
          "execution_count": 30
        }
      ]
    },
    {
      "cell_type": "code",
      "metadata": {
        "colab": {
          "base_uri": "https://localhost:8080/"
        },
        "id": "hG6AfulChsux",
        "outputId": "db1f77be-7c9f-4aaa-ce58-c82c5b9e8fde"
      },
      "source": [
        "alunos_classe[\"Maria\"][\"idade\"]"
      ],
      "execution_count": 32,
      "outputs": [
        {
          "output_type": "execute_result",
          "data": {
            "text/plain": [
              "23"
            ]
          },
          "metadata": {
            "tags": []
          },
          "execution_count": 32
        }
      ]
    },
    {
      "cell_type": "markdown",
      "metadata": {
        "id": "1uPl0ZYjh3Ju"
      },
      "source": [
        "--------------- AULA 2 ---------------------------------\n",
        "\n",
        "Exercício 5: Cire uma mensagem padrão que agora que varie de acordo com os pronomes (feminino e masculino) e sobre o IMC (abaixo ou acima de 25).\n",
        "\n",
        "Ex:\n",
        "Olá Claudia. Gostaríamos de informar que seu IMC é 25.3! Esteja preparada para novos treinos!\n",
        "Olá João. Gostaríamos de informar que seu IMC é 23! Seus treinos continuarão os mesmos!"
      ]
    },
    {
      "cell_type": "code",
      "metadata": {
        "colab": {
          "base_uri": "https://localhost:8080/"
        },
        "id": "FZO43lyJh7w4",
        "outputId": "6c2fb7a1-a2f4-4fa3-9efc-56791d5b6f9c"
      },
      "source": [
        "# Criando a lista com nomes, idades, sexos e alturas\n",
        "lista_academia = [['Ulrich', 'M', 80, 1.92],['Claudia','F',62,1.56],\n",
        "               ['Mikkel','M',67,1.56],['Jonas','M',52,1.56],\n",
        "               ['Charlotte','F',52,1.56],['Martha','F',76,1.98]]\n",
        "\n",
        "#Adicionando o IMC à lista\n",
        "for i in lista_academia:\n",
        "  imc = i[2]/i[3]**2\n",
        "  imc_round = round(imc, 2)\n",
        "  i.append(imc_round)\n",
        "\n",
        "lista_academia #Exibindo a lista\n",
        "\n",
        "alunos_academia = {} #Criando o dicionário\n",
        "\n",
        "#Convertendo a lista em dicionário\n",
        "for aluno in lista_academia:\n",
        "  alunos_academia[aluno[0]] = {}\n",
        "  alunos_academia[aluno[0]]['sexo'] = aluno[1]\n",
        "  alunos_academia[aluno[0]]['peso'] = aluno[2]\n",
        "  alunos_academia[aluno[0]]['altura'] = aluno[3]\n",
        "  alunos_academia[aluno[0]]['imc'] = aluno[4]\n",
        "\n",
        "alunos_academia\n",
        "\n",
        "\n",
        "for i in alunos_academia.keys():\n",
        "  if alunos_academia[i]['sexo'] == \"M\" and alunos_academia[i]['imc'] > 25:\n",
        "    print(f\"Olá {i}, Gostaríamos de informar que seu IMC é {alunos_academia[i]['imc']}! Esteja preparado para novos treinos!\")\n",
        "  elif alunos_academia[i]['sexo'] == \"F\" and alunos_academia[i]['imc'] > 25:\n",
        "    print(f\"Olá {i}, Gostaríamos de informar que seu IMC é {alunos_academia[i]['imc']}! Esteja preparada para novos treinos!\")\n",
        "  else:\n",
        "    print(f\"Olá {i}, Gostaríamos de informar que seu IMC é {alunos_academia[i]['imc']}! Seus treinos continuarão os mesmos!\")\n",
        "\n"
      ],
      "execution_count": 67,
      "outputs": [
        {
          "output_type": "stream",
          "text": [
            "Olá Ulrich, Gostaríamos de informar que seu IMC é 21.7! Seus treinos continuarão os mesmos!\n",
            "Olá Claudia, Gostaríamos de informar que seu IMC é 25.48! Esteja preparada para novos treinos!\n",
            "Olá Mikkel, Gostaríamos de informar que seu IMC é 27.53! Esteja preparado para novos treinos!\n",
            "Olá Jonas, Gostaríamos de informar que seu IMC é 21.37! Seus treinos continuarão os mesmos!\n",
            "Olá Charlotte, Gostaríamos de informar que seu IMC é 21.37! Seus treinos continuarão os mesmos!\n",
            "Olá Martha, Gostaríamos de informar que seu IMC é 19.39! Seus treinos continuarão os mesmos!\n"
          ],
          "name": "stdout"
        }
      ]
    },
    {
      "cell_type": "markdown",
      "metadata": {
        "id": "y6ZjYgKzj960"
      },
      "source": [
        "Abaixo temos uma lista de alunos de uma escola de música. Os elementos da lista estão na seguinte ordem: Nome, Instrumento, Nome do professor e dia da aula.\n",
        "Por uma motivo de força maior, todas as aulas da semana seguinte à que você está terão que ser canceladas. Sua tarefa consistirá em criar uma mensagem padronizada automaticamente que avise ao aluno que ele(a) não terá aula na próxima semana, como no exemplo: \"Olá Paulo, sua aula de bateria da próxima quarta-feira com o professor Thiago terá de ser cancelada por motivo de força maior. Lamentamos o ocorrido e entraremos em contato em breve.\""
      ]
    },
    {
      "cell_type": "code",
      "metadata": {
        "colab": {
          "base_uri": "https://localhost:8080/"
        },
        "id": "fKoUFdnGj_wg",
        "outputId": "8a478e34-c566-45d1-f8d6-af678abc3b59"
      },
      "source": [
        "#Lista de alunos, instrumento, professor e dia de aula\n",
        "lista_de_alunos = [['João','bateria','Paulo','quarta-feira'],['Maria','guitarra','Rubens','quinta-feira'],\n",
        "                   ['Carla','sanfona','Roger','segunda-feira'],['Raul','contrabaixo','Paula','terça-feira'],\n",
        "                   ['Carlos','bateira','Paulo','quarta-feira'],['Pedro','piano','Roberta','terça-feira'],\n",
        "                   ['Joana','bateria','José','quarta-feira'],['Fernanda','guitarra','Rubens','quinta-feira'],\n",
        "                   ['Tamara','sanfona','Roger','terça-feira'],['Tito','contrabaixo','Ronaldo','terça-feira'],\n",
        "                   ['Joseph','bateira','Paulo','quinta-feira'],['Robert','piano','Fernando','terça-feira']]\n",
        "\n",
        "\n",
        "#Mensagem de cancelamento das aulas\n",
        "for i in lista_de_alunos:\n",
        "  print(f\"Olá {i[0]}, sua aula de {i[1]} da próxima {i[3]} com o professor {i[2]} terá de ser cancelada por motivo de força maior. Lamentamos o ocorrido e entraremos em contato em breve.\")\n",
        "\n"
      ],
      "execution_count": 80,
      "outputs": [
        {
          "output_type": "stream",
          "text": [
            "Olá João, sua aula de bateria da próxima quarta-feira com o professor Paulo terá de ser cancelada por motivo de força maior. Lamentamos o ocorrido e entraremos em contato em breve.\n",
            "Olá Maria, sua aula de guitarra da próxima quinta-feira com o professor Rubens terá de ser cancelada por motivo de força maior. Lamentamos o ocorrido e entraremos em contato em breve.\n",
            "Olá Carla, sua aula de sanfona da próxima segunda-feira com o professor Roger terá de ser cancelada por motivo de força maior. Lamentamos o ocorrido e entraremos em contato em breve.\n",
            "Olá Raul, sua aula de contrabaixo da próxima terça-feira com o professor Paula terá de ser cancelada por motivo de força maior. Lamentamos o ocorrido e entraremos em contato em breve.\n",
            "Olá Carlos, sua aula de bateira da próxima quarta-feira com o professor Paulo terá de ser cancelada por motivo de força maior. Lamentamos o ocorrido e entraremos em contato em breve.\n",
            "Olá Pedro, sua aula de piano da próxima terça-feira com o professor Roberta terá de ser cancelada por motivo de força maior. Lamentamos o ocorrido e entraremos em contato em breve.\n",
            "Olá Joana, sua aula de bateria da próxima quarta-feira com o professor José terá de ser cancelada por motivo de força maior. Lamentamos o ocorrido e entraremos em contato em breve.\n",
            "Olá Fernanda, sua aula de guitarra da próxima quinta-feira com o professor Rubens terá de ser cancelada por motivo de força maior. Lamentamos o ocorrido e entraremos em contato em breve.\n",
            "Olá Tamara, sua aula de sanfona da próxima terça-feira com o professor Roger terá de ser cancelada por motivo de força maior. Lamentamos o ocorrido e entraremos em contato em breve.\n",
            "Olá Tito, sua aula de contrabaixo da próxima terça-feira com o professor Ronaldo terá de ser cancelada por motivo de força maior. Lamentamos o ocorrido e entraremos em contato em breve.\n",
            "Olá Joseph, sua aula de bateira da próxima quinta-feira com o professor Paulo terá de ser cancelada por motivo de força maior. Lamentamos o ocorrido e entraremos em contato em breve.\n",
            "Olá Robert, sua aula de piano da próxima terça-feira com o professor Fernando terá de ser cancelada por motivo de força maior. Lamentamos o ocorrido e entraremos em contato em breve.\n"
          ],
          "name": "stdout"
        }
      ]
    },
    {
      "cell_type": "code",
      "metadata": {
        "colab": {
          "base_uri": "https://localhost:8080/"
        },
        "id": "dKCH4XfGu2bS",
        "outputId": "5e8e1ef9-4282-4556-bcd8-8b791b9548c9"
      },
      "source": [
        "lista_de_alunos = [['João','bateria','Paulo','quarta-feira'],['Maria','guitarra','Rubens','quinta-feira'],\n",
        "                   ['Carla','sanfona','Roger','segunda-feira'],['Raul','contrabaixo','Paula','terça-feira'],\n",
        "                   ['Carlos','bateira','Paulo','quarta-feira'],['Pedro','piano','Roberta','terça-feira'],\n",
        "                   ['Joana','bateria','José','quarta-feira'],['Fernanda','guitarra','Rubens','quinta-feira'],\n",
        "                   ['Tamara','sanfona','Roger','terça-feira'],['Tito','contrabaixo','Ronaldo','terça-feira'],\n",
        "                   ['Joseph','bateira','Paulo','quinta-feira'],['Robert','piano','Fernando','terça-feira']]\n",
        "\n",
        "# Convertendo a lista em dicionário e informando aos alunos que não terão aulas\n",
        "nomes_dos_alunos = {} #Criando o dicionário\n",
        "\n",
        "#Convertendo a lista em dicionário\n",
        "for nome in lista_de_alunos:\n",
        "  nomes_dos_alunos[nome[0]] = {}\n",
        "  nomes_dos_alunos[nome[0]]['instrumento'] = nome[1]\n",
        "  nomes_dos_alunos[nome[0]]['professor'] = nome[2]\n",
        "  nomes_dos_alunos[nome[0]]['aula'] = nome[3]\n",
        "\n",
        "nomes_dos_alunos\n",
        "\n",
        "#Dividir o bloco do dicionário\n",
        "print(\"=\"*80) \n",
        "#Exibindo a mensagem\n",
        "for i in nomes_dos_alunos.keys():\n",
        "  print(f\"Olá {i}, sua aula de {nomes_dos_alunos[i]['instrumento']} da próxima {nomes_dos_alunos[i]['aula']} com o professor {nomes_dos_alunos[i]['professor']} terá de ser cancelada por motivo de força maior. Lamentamos o ocorrido e entraremos em contato em breve.\")\n",
        "\n",
        "print(\"=\"*80)"
      ],
      "execution_count": 81,
      "outputs": [
        {
          "output_type": "stream",
          "text": [
            "================================================================================\n",
            "Olá João, sua aula de bateria da próxima quarta-feira com o professor Paulo terá de ser cancelada por motivo de força maior. Lamentamos o ocorrido e entraremos em contato em breve.\n",
            "Olá Maria, sua aula de guitarra da próxima quinta-feira com o professor Rubens terá de ser cancelada por motivo de força maior. Lamentamos o ocorrido e entraremos em contato em breve.\n",
            "Olá Carla, sua aula de sanfona da próxima segunda-feira com o professor Roger terá de ser cancelada por motivo de força maior. Lamentamos o ocorrido e entraremos em contato em breve.\n",
            "Olá Raul, sua aula de contrabaixo da próxima terça-feira com o professor Paula terá de ser cancelada por motivo de força maior. Lamentamos o ocorrido e entraremos em contato em breve.\n",
            "Olá Carlos, sua aula de bateira da próxima quarta-feira com o professor Paulo terá de ser cancelada por motivo de força maior. Lamentamos o ocorrido e entraremos em contato em breve.\n",
            "Olá Pedro, sua aula de piano da próxima terça-feira com o professor Roberta terá de ser cancelada por motivo de força maior. Lamentamos o ocorrido e entraremos em contato em breve.\n",
            "Olá Joana, sua aula de bateria da próxima quarta-feira com o professor José terá de ser cancelada por motivo de força maior. Lamentamos o ocorrido e entraremos em contato em breve.\n",
            "Olá Fernanda, sua aula de guitarra da próxima quinta-feira com o professor Rubens terá de ser cancelada por motivo de força maior. Lamentamos o ocorrido e entraremos em contato em breve.\n",
            "Olá Tamara, sua aula de sanfona da próxima terça-feira com o professor Roger terá de ser cancelada por motivo de força maior. Lamentamos o ocorrido e entraremos em contato em breve.\n",
            "Olá Tito, sua aula de contrabaixo da próxima terça-feira com o professor Ronaldo terá de ser cancelada por motivo de força maior. Lamentamos o ocorrido e entraremos em contato em breve.\n",
            "Olá Joseph, sua aula de bateira da próxima quinta-feira com o professor Paulo terá de ser cancelada por motivo de força maior. Lamentamos o ocorrido e entraremos em contato em breve.\n",
            "Olá Robert, sua aula de piano da próxima terça-feira com o professor Fernando terá de ser cancelada por motivo de força maior. Lamentamos o ocorrido e entraremos em contato em breve.\n",
            "================================================================================\n"
          ],
          "name": "stdout"
        }
      ]
    },
    {
      "cell_type": "markdown",
      "metadata": {
        "id": "Lm1tOKThnU42"
      },
      "source": [
        "Exercícios adaptados de Python Brasil"
      ]
    }
  ]
}