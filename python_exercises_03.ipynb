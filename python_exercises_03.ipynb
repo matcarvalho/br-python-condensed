{
  "nbformat": 4,
  "nbformat_minor": 0,
  "metadata": {
    "colab": {
      "name": "python_exercises_03.ipynb",
      "provenance": [],
      "collapsed_sections": [],
      "include_colab_link": true
    },
    "kernelspec": {
      "name": "python3",
      "display_name": "Python 3"
    }
  },
  "cells": [
    {
      "cell_type": "markdown",
      "metadata": {
        "id": "view-in-github",
        "colab_type": "text"
      },
      "source": [
        "<a href=\"https://colab.research.google.com/github/matcarvalho/br-python-condensed/blob/main/python_exercises_03.ipynb\" target=\"_parent\"><img src=\"https://colab.research.google.com/assets/colab-badge.svg\" alt=\"Open In Colab\"/></a>"
      ]
    },
    {
      "cell_type": "markdown",
      "metadata": {
        "id": "8YqaSZgXYJ5g"
      },
      "source": [
        "![](https://i.imgur.com/YX6UATs.png)\n"
      ]
    },
    {
      "cell_type": "markdown",
      "metadata": {
        "id": "hhUVzDipaGb9"
      },
      "source": [
        "### **Exercícios de Python - 3** \n",
        "\n",
        "\n",
        "\n"
      ]
    },
    {
      "cell_type": "markdown",
      "metadata": {
        "id": "7O6AZt8-aGlr"
      },
      "source": [
        "1 - Classe Bola:\\\n",
        "Crie uma classe que modele uma bola:\n",
        "\n",
        "Atributos: Cor, material\\\n",
        "Métodos: trocaCor "
      ]
    },
    {
      "cell_type": "code",
      "metadata": {
        "id": "ibipMzmZcfIF"
      },
      "source": [
        "class Bola():\n",
        "  #Criando Função de inicialização e os atributos\n",
        "  def __init__(self, cor, material):\n",
        "    self.cor = cor\n",
        "    self.material = material\n",
        "\n",
        "  #Função mudar a cor da bola\n",
        "  def trocaCor(self, nova_cor):\n",
        "    self.cor = nova_cor"
      ],
      "execution_count": 12,
      "outputs": []
    },
    {
      "cell_type": "code",
      "metadata": {
        "id": "FKrAqgWXno9B"
      },
      "source": [
        "#Criando um objeto da classe Bola\n",
        "novabola = Bola(\"branca\",\"couro\")"
      ],
      "execution_count": 13,
      "outputs": []
    },
    {
      "cell_type": "code",
      "metadata": {
        "colab": {
          "base_uri": "https://localhost:8080/",
          "height": 35
        },
        "id": "JjYSe0Z6n8fH",
        "outputId": "64a4c4f2-ff83-421e-f105-2d3604f5fbb9"
      },
      "source": [
        "novabola.material"
      ],
      "execution_count": 14,
      "outputs": [
        {
          "output_type": "execute_result",
          "data": {
            "application/vnd.google.colaboratory.intrinsic+json": {
              "type": "string"
            },
            "text/plain": [
              "'couro'"
            ]
          },
          "metadata": {
            "tags": []
          },
          "execution_count": 14
        }
      ]
    },
    {
      "cell_type": "code",
      "metadata": {
        "id": "M-qe8SHyoloo"
      },
      "source": [
        "novabola.trocaCor(\"azul\")"
      ],
      "execution_count": 15,
      "outputs": []
    },
    {
      "cell_type": "code",
      "metadata": {
        "colab": {
          "base_uri": "https://localhost:8080/",
          "height": 35
        },
        "id": "djZ2t_wkoxL_",
        "outputId": "bc8ca25d-4791-48ec-d69b-0508a2e9d41a"
      },
      "source": [
        "novabola.cor"
      ],
      "execution_count": 16,
      "outputs": [
        {
          "output_type": "execute_result",
          "data": {
            "application/vnd.google.colaboratory.intrinsic+json": {
              "type": "string"
            },
            "text/plain": [
              "'azul'"
            ]
          },
          "metadata": {
            "tags": []
          },
          "execution_count": 16
        }
      ]
    },
    {
      "cell_type": "markdown",
      "metadata": {
        "id": "c62cM2VlKFqN"
      },
      "source": [
        "2 - Classe Quadrado: Crie uma classe que modele um quadrado:\n",
        "\n",
        "Atributos: Tamanho do lado\n",
        "\n",
        "Métodos: Mudar valor do Lado e calcular Área;"
      ]
    },
    {
      "cell_type": "code",
      "metadata": {
        "id": "M_5mNjNbKFMI"
      },
      "source": [
        "class Quadrado():\n",
        "  #Criando a função de inicialização e os atributos\n",
        "  def __init__(self, tamanho_lado):\n",
        "    self.tamanho_lado = tamanho_lado\n",
        "  \n",
        "  #Criando a função para mudar o valor\n",
        "  def mudar_valor_lado(self, novo_tamanho):\n",
        "    self.tamanho_lado = novo_tamanho\n",
        "  \n",
        "  #criando a função que calcula a área\n",
        "  def valor_area(self):\n",
        "    return self.tamanho_lado * self.tamanho_lado"
      ],
      "execution_count": 25,
      "outputs": []
    },
    {
      "cell_type": "code",
      "metadata": {
        "id": "oXLLIoh-o3Yo"
      },
      "source": [
        "# Criando um objeto da Classe Quadrado\n",
        "novoQuadrado = Quadrado(4)"
      ],
      "execution_count": 26,
      "outputs": []
    },
    {
      "cell_type": "code",
      "metadata": {
        "colab": {
          "base_uri": "https://localhost:8080/"
        },
        "id": "-JMrfVIio-TN",
        "outputId": "16399395-d938-4361-a9b7-3d80d07d71e4"
      },
      "source": [
        "novoQuadrado.tamanho_lado"
      ],
      "execution_count": 27,
      "outputs": [
        {
          "output_type": "execute_result",
          "data": {
            "text/plain": [
              "4"
            ]
          },
          "metadata": {
            "tags": []
          },
          "execution_count": 27
        }
      ]
    },
    {
      "cell_type": "code",
      "metadata": {
        "colab": {
          "base_uri": "https://localhost:8080/"
        },
        "id": "s12T-YJNpTwW",
        "outputId": "37b6e47d-2610-47f6-af0f-82c748b9ae23"
      },
      "source": [
        "#Informando novo tamanho do lado\n",
        "novoQuadrado.mudar_valor_lado(8)\n",
        "novoQuadrado.tamanho_lado"
      ],
      "execution_count": 30,
      "outputs": [
        {
          "output_type": "execute_result",
          "data": {
            "text/plain": [
              "8"
            ]
          },
          "metadata": {
            "tags": []
          },
          "execution_count": 30
        }
      ]
    },
    {
      "cell_type": "code",
      "metadata": {
        "colab": {
          "base_uri": "https://localhost:8080/"
        },
        "id": "SLGsOrqCpbdp",
        "outputId": "9f705fff-ae17-4c2b-c587-e391595494cf"
      },
      "source": [
        "#Calculando a área\n",
        "novoQuadrado.valor_area()"
      ],
      "execution_count": 29,
      "outputs": [
        {
          "output_type": "execute_result",
          "data": {
            "text/plain": [
              "64"
            ]
          },
          "metadata": {
            "tags": []
          },
          "execution_count": 29
        }
      ]
    },
    {
      "cell_type": "markdown",
      "metadata": {
        "id": "qMGp-h8OaGqr"
      },
      "source": [
        "3 - Classe funcionário \\\n",
        "Crie uma classe que crie funcionários de uma empresa.\\\n",
        "Atributos: Nome, Função, Salário. \\\n",
        "Métodos: aumento anual. O aumento anual deve ser de 10%.\\\n",
        "Crie dois objetos e dê um aument de 10% a um deles e um aumento de 20% ao outro."
      ]
    },
    {
      "cell_type": "code",
      "metadata": {
        "id": "3lzz274Thi0Y"
      },
      "source": [
        "class Funcionario():\n",
        "  def __init__(self, nome, funcao, salario):\n",
        "    self.nome = nome\n",
        "    self.funcao = funcao\n",
        "    self.salario = salario\n",
        "\n",
        "  def aumentoAnual(self, aumento=0.10):\n",
        "    self.salario = self.salario+(self.salario*aumento)\n"
      ],
      "execution_count": 33,
      "outputs": []
    },
    {
      "cell_type": "code",
      "metadata": {
        "id": "IFUaihJ7qT1_"
      },
      "source": [
        "#Criando objetos funcionários\n",
        "funcionario1 = Funcionario(\"Mário\", \"Analista\", 4000)\n",
        "\n",
        "funcionario2 = Funcionario(\"Jorge\", \"Assistente\", 2000)\n"
      ],
      "execution_count": 34,
      "outputs": []
    },
    {
      "cell_type": "code",
      "metadata": {
        "colab": {
          "base_uri": "https://localhost:8080/",
          "height": 35
        },
        "id": "GY2YUQ-IqodP",
        "outputId": "377623de-8120-4efe-914c-50aea40e9956"
      },
      "source": [
        "funcionario1.funcao"
      ],
      "execution_count": 37,
      "outputs": [
        {
          "output_type": "execute_result",
          "data": {
            "application/vnd.google.colaboratory.intrinsic+json": {
              "type": "string"
            },
            "text/plain": [
              "'Analista'"
            ]
          },
          "metadata": {
            "tags": []
          },
          "execution_count": 37
        }
      ]
    },
    {
      "cell_type": "code",
      "metadata": {
        "id": "p-DwHG71rBjv"
      },
      "source": [
        "#Reajustando os salários\n",
        "funcionario1.aumentoAnual(0.2)\n",
        "funcionario2.aumentoAnual()"
      ],
      "execution_count": 39,
      "outputs": []
    },
    {
      "cell_type": "code",
      "metadata": {
        "colab": {
          "base_uri": "https://localhost:8080/"
        },
        "id": "R_f7_-C6rNwi",
        "outputId": "785eb167-1097-4a9e-cf7b-dcce420b57c5"
      },
      "source": [
        "print(f\"Olá {funcionario1.nome}, seu novo salário é {funcionario1.salario}\")\n",
        "print(f\"Olá {funcionario2.nome}, seu novo salário é {funcionario2.salario}\")"
      ],
      "execution_count": 40,
      "outputs": [
        {
          "output_type": "stream",
          "text": [
            "Olá Mário, seu novo salário é 5760.0\n",
            "Olá Jorge, seu novo salário é 2200.0\n"
          ],
          "name": "stdout"
        }
      ]
    },
    {
      "cell_type": "markdown",
      "metadata": {
        "id": "lCMWrvt3P4_x"
      },
      "source": [
        "04 - Utilizando a biblioteca Numpy, obtenha as médias, medianas e desvios padrão de altura, peso e IMC dos membros do dicionário a seguir:\\\n",
        "Trasforme os dicionários em um numpy array e utilize os métodos próprios dessa classe."
      ]
    },
    {
      "cell_type": "code",
      "metadata": {
        "id": "l4qtSxU7XquB"
      },
      "source": [
        "clientes = {'Charlotte': {'altura': 1.56, 'imc': 21, 'peso': 52, 'sexo': 'F'},\n",
        " 'Claudia': {'altura': 1.56, 'imc': 25, 'peso': 62, 'sexo': 'F'},\n",
        " 'Jonas': {'altura': 1.56, 'imc': 21, 'peso': 52, 'sexo': 'M'},\n",
        " 'Martha': {'altura': 1.98, 'imc': 19, 'peso': 76, 'sexo': 'F'},\n",
        " 'Mikkel': {'altura': 1.56, 'imc': 28, 'peso': 67, 'sexo': 'M'},\n",
        "\n",
        " 'Ulrich': {'altura': 1.92, 'imc': 22, 'peso': 80, 'sexo': 'M'}}"
      ],
      "execution_count": 46,
      "outputs": []
    },
    {
      "cell_type": "code",
      "metadata": {
        "colab": {
          "base_uri": "https://localhost:8080/"
        },
        "id": "THT49RPpuMXH",
        "outputId": "169e1742-1e6a-47f7-f1a0-0227a51b73e0"
      },
      "source": [
        "#Importando a bilioteca numpy\n",
        "import numpy as np\n",
        "\n",
        "# Inicializando as listas\n",
        "altura = []\n",
        "peso = []\n",
        "imc = []\n",
        "\n",
        "#Criando as listas de alturas, pesos e imcs\n",
        "for c in clientes:\n",
        "  altura.append(clientes[c]['altura'])\n",
        "  peso.append(clientes[c]['peso'])\n",
        "  imc.append(clientes[c]['imc'])\n",
        "\n",
        "#Criando um array em numpy com as alturas, pesos e imcs de duas dimensões\n",
        "array_numpy = np.array([altura, peso, imc], np.float)\n",
        "array_numpy\n"
      ],
      "execution_count": 63,
      "outputs": [
        {
          "output_type": "execute_result",
          "data": {
            "text/plain": [
              "array([[ 1.56,  1.56,  1.56,  1.98,  1.56,  1.92],\n",
              "       [52.  , 62.  , 52.  , 76.  , 67.  , 80.  ],\n",
              "       [21.  , 25.  , 21.  , 19.  , 28.  , 22.  ]])"
            ]
          },
          "metadata": {
            "tags": []
          },
          "execution_count": 63
        }
      ]
    },
    {
      "cell_type": "code",
      "metadata": {
        "colab": {
          "base_uri": "https://localhost:8080/"
        },
        "id": "is2KxALj7ynC",
        "outputId": "b21cff44-db5a-4bf4-be9c-9d1d978dad9d"
      },
      "source": [
        "#Verificando o número de dimensões do array\n",
        "print(\"O array criado possui\", array_numpy.ndim, \"dimensões\")\n",
        "\n",
        "#Tamanho do array\n",
        "tamanho = [i for i in array_numpy.shape]\n",
        "print(\"O array possui\",tamanho[0],\"linhas e\",tamanho[1],\"colunas\")\n"
      ],
      "execution_count": 107,
      "outputs": [
        {
          "output_type": "stream",
          "text": [
            "O array criado possui 2 dimensões\n",
            "O array possui 3 linhas e 6 colunas\n"
          ],
          "name": "stdout"
        }
      ]
    },
    {
      "cell_type": "code",
      "metadata": {
        "id": "7RuDmmmrylY5"
      },
      "source": [
        "#Para ver os métodos basta usar o comando abaixo:\n",
        "help(array_numpy)"
      ],
      "execution_count": null,
      "outputs": []
    },
    {
      "cell_type": "code",
      "metadata": {
        "colab": {
          "base_uri": "https://localhost:8080/"
        },
        "id": "W7LLakhg2QLr",
        "outputId": "eb96831a-4f3f-4871-94dd-cfbe51751574"
      },
      "source": [
        "#Calculando a Média, Mediana e Desvio Padrão das alturas\n",
        "print(\"Média das alturas \", array_numpy[0].mean())\n",
        "print(\"Desvio Padrão das alturas \", array_numpy[0].std())\n",
        "print(\"Mediana das alturas \", np.median(array_numpy[0]))"
      ],
      "execution_count": 68,
      "outputs": [
        {
          "output_type": "stream",
          "text": [
            "Média das alturas  1.6900000000000002\n",
            "Desvio Padrão das allturas  0.18466185312619385\n",
            "Mediana das alturas  1.56\n"
          ],
          "name": "stdout"
        }
      ]
    },
    {
      "cell_type": "code",
      "metadata": {
        "colab": {
          "base_uri": "https://localhost:8080/"
        },
        "id": "J39Df_Gx6hvp",
        "outputId": "ce9b0bf9-981d-41ec-e3fa-1e50ca190d0c"
      },
      "source": [
        "#Calculando a Média, Mediana e Desvio Padrão dos pesos\n",
        "print(\"Média dos pesos \", array_numpy[1].mean())\n",
        "print(\"Desvio Padrão dos pesos \", array_numpy[1].std())\n",
        "print(\"Mediana dos pesos \", np.median(array_numpy[1]))"
      ],
      "execution_count": 69,
      "outputs": [
        {
          "output_type": "stream",
          "text": [
            "Média dos pesos  64.83333333333333\n",
            "Desvio Padrão dos pesos  10.77677544021814\n",
            "Mediana dos pesos  64.5\n"
          ],
          "name": "stdout"
        }
      ]
    },
    {
      "cell_type": "code",
      "metadata": {
        "colab": {
          "base_uri": "https://localhost:8080/"
        },
        "id": "RGsXam9P6lxz",
        "outputId": "fb3a4cac-8ee1-4455-dc5b-c815b71355e8"
      },
      "source": [
        "#Calculando a Média, Mediana e Desvio Padrão dos IMC's\n",
        "print(\"Média dos IMCs \", array_numpy[2].mean())\n",
        "print(\"Desvio Padrão dos IMCs \", array_numpy[2].std())\n",
        "print(\"Mediana dos IMCs \", np.median(array_numpy[2]))"
      ],
      "execution_count": 70,
      "outputs": [
        {
          "output_type": "stream",
          "text": [
            "Média dos IMCs  22.666666666666668\n",
            "Desvio Padrão dos IMCs  2.981423969999719\n",
            "Mediana dos IMCs  21.5\n"
          ],
          "name": "stdout"
        }
      ]
    },
    {
      "cell_type": "markdown",
      "metadata": {
        "id": "1a_TuuI6QDWa"
      },
      "source": [
        "05 - Realize o mesmo procedimento com a biblioteca Statistics\n"
      ]
    },
    {
      "cell_type": "code",
      "metadata": {
        "id": "y64mwLBVhN1L",
        "colab": {
          "base_uri": "https://localhost:8080/"
        },
        "outputId": "e4655821-a29d-4a52-cb47-36b27ea0b3f1"
      },
      "source": [
        "import statistics as st\n",
        "\n",
        "#Calculando a Média, Desvio Padrão e Mediana das alturas utilizando a biblioteca Statistics\n",
        "print(\"Média das alturas \", st.mean(array_numpy[0]))\n",
        "print(\"Desvio Padrão das alturas \", st.stdev(array_numpy[0]))\n",
        "print(\"Mediana das Alturas \", st.median(array_numpy[0]))"
      ],
      "execution_count": 108,
      "outputs": [
        {
          "output_type": "stream",
          "text": [
            "Média das alturas  1.69\n",
            "Desvio Padrão das alturas  0.20228692493584446\n",
            "Mediana das Alturas  1.56\n"
          ],
          "name": "stdout"
        }
      ]
    },
    {
      "cell_type": "code",
      "metadata": {
        "colab": {
          "base_uri": "https://localhost:8080/"
        },
        "id": "wJG1F4sbE5Cb",
        "outputId": "04f9a51f-c512-4604-8278-3e9fa5f40956"
      },
      "source": [
        "#Calculando a Média, Desvio Padrão e Mediana dos pesos utilizando a biblioteca Statistics\n",
        "print(\"Média dos pesos \", st.mean(array_numpy[1]))\n",
        "print(\"Desvio Padrão dos pesos \", st.stdev(array_numpy[1]))\n",
        "print(\"Mediana dos pesos \", st.median(array_numpy[1]))"
      ],
      "execution_count": 109,
      "outputs": [
        {
          "output_type": "stream",
          "text": [
            "Média dos pesos  64.83333333333333\n",
            "Desvio Padrão dos pesos  11.805366011550285\n",
            "Mediana dos pesos  64.5\n"
          ],
          "name": "stdout"
        }
      ]
    },
    {
      "cell_type": "code",
      "metadata": {
        "colab": {
          "base_uri": "https://localhost:8080/"
        },
        "id": "2TuFFAYgNqRj",
        "outputId": "5d6add14-e20d-4849-e5b3-af8ee6f105c4"
      },
      "source": [
        "#Calculando a Média, Desvio Padrão e Mediana dos IMCs utilizando a biblioteca Statistics\n",
        "print(\"Média dos IMCs \", st.mean(array_numpy[2]))\n",
        "print(\"Desvio Padrão dos IMCs \", st.stdev(array_numpy[2]))\n",
        "print(\"Mediana dos IMCs \", st.median(array_numpy[2]))"
      ],
      "execution_count": 110,
      "outputs": [
        {
          "output_type": "stream",
          "text": [
            "Média dos IMCs  22.666666666666668\n",
            "Desvio Padrão dos IMCs  3.265986323710904\n",
            "Mediana dos IMCs  21.5\n"
          ],
          "name": "stdout"
        }
      ]
    },
    {
      "cell_type": "markdown",
      "metadata": {
        "id": "Lm1tOKThnU42"
      },
      "source": [
        "Exercícios adaptados de Python Brasil"
      ]
    }
  ]
}